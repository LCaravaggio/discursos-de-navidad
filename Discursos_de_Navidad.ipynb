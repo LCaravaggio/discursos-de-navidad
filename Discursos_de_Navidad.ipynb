{
  "nbformat": 4,
  "nbformat_minor": 0,
  "metadata": {
    "colab": {
      "provenance": [],
      "authorship_tag": "ABX9TyMEmvSk9/mye7d4WF2SFmnW",
      "include_colab_link": true
    },
    "kernelspec": {
      "name": "python3",
      "display_name": "Python 3"
    },
    "language_info": {
      "name": "python"
    }
  },
  "cells": [
    {
      "cell_type": "markdown",
      "metadata": {
        "id": "view-in-github",
        "colab_type": "text"
      },
      "source": [
        "<a href=\"https://colab.research.google.com/github/LCaravaggio/discursos-de-navidad/blob/master/Discursos_de_Navidad.ipynb\" target=\"_parent\"><img src=\"https://colab.research.google.com/assets/colab-badge.svg\" alt=\"Open In Colab\"/></a>"
      ]
    },
    {
      "cell_type": "code",
      "source": [
        "%%capture\n",
        "!python -m spacy download es_core_news_sm"
      ],
      "metadata": {
        "id": "38BWBRYrkgSR"
      },
      "execution_count": 51,
      "outputs": []
    },
    {
      "cell_type": "code",
      "source": [
        "!git clone https://github.com/lcaravaggio/discursos-de-navidad.git"
      ],
      "metadata": {
        "colab": {
          "base_uri": "https://localhost:8080/"
        },
        "id": "OQpkjwFVlacZ",
        "outputId": "03043eff-65fe-488e-b809-2590388b49cb"
      },
      "execution_count": 52,
      "outputs": [
        {
          "output_type": "stream",
          "name": "stdout",
          "text": [
            "Cloning into 'discursos-de-navidad'...\n",
            "remote: Enumerating objects: 353, done.\u001b[K\n",
            "remote: Counting objects: 100% (16/16), done.\u001b[K\n",
            "remote: Compressing objects: 100% (7/7), done.\u001b[K\n",
            "remote: Total 353 (delta 11), reused 9 (delta 9), pack-reused 337\u001b[K\n",
            "Receiving objects: 100% (353/353), 3.35 MiB | 22.10 MiB/s, done.\n",
            "Resolving deltas: 100% (171/171), done.\n"
          ]
        }
      ]
    },
    {
      "cell_type": "code",
      "source": [
        "%cd discursos-de-navidad"
      ],
      "metadata": {
        "colab": {
          "base_uri": "https://localhost:8080/"
        },
        "id": "d8iZQJUTl9cX",
        "outputId": "2bc5c6a6-9b5b-491e-b07a-892414289b73"
      },
      "execution_count": 53,
      "outputs": [
        {
          "output_type": "stream",
          "name": "stdout",
          "text": [
            "/content/discursos-de-navidad/discursos-de-navidad/discursos-de-navidad\n"
          ]
        }
      ]
    },
    {
      "cell_type": "code",
      "source": [
        "import pandas as pd\n",
        "import os"
      ],
      "metadata": {
        "id": "N91d8vmYu4P2"
      },
      "execution_count": 54,
      "outputs": []
    },
    {
      "cell_type": "code",
      "source": [
        "def read_file(file_path):\n",
        "    with open(file_path, 'r') as file:\n",
        "        content = file.read()\n",
        "    return content"
      ],
      "metadata": {
        "id": "JgbIjAGZvnea"
      },
      "execution_count": 55,
      "outputs": []
    },
    {
      "cell_type": "code",
      "source": [
        "data = []\n",
        "folder_path = '/content/discursos-de-navidad/data/speeches/'\n",
        "for filename in os.listdir(folder_path):\n",
        "    if filename.endswith('.txt'):\n",
        "        file_path = os.path.join(folder_path, filename)\n",
        "        content = read_file(file_path)\n",
        "        data.append({'Filename': filename[:-4], 'Content': content})"
      ],
      "metadata": {
        "id": "7H5P_y9Cvpoh"
      },
      "execution_count": 56,
      "outputs": []
    },
    {
      "cell_type": "code",
      "source": [
        "df = pd.DataFrame(data)"
      ],
      "metadata": {
        "id": "719NzMBcvv0N"
      },
      "execution_count": 57,
      "outputs": []
    },
    {
      "cell_type": "code",
      "source": [
        "df = df.sort_values(by='Filename')"
      ],
      "metadata": {
        "id": "zSX0o9RJztaT"
      },
      "execution_count": 58,
      "outputs": []
    },
    {
      "cell_type": "code",
      "source": [
        "df"
      ],
      "metadata": {
        "id": "rpTDcpF2zyEk",
        "outputId": "bbc7776b-64c7-4a34-bec7-a0e23d834009",
        "colab": {
          "base_uri": "https://localhost:8080/",
          "height": 424
        }
      },
      "execution_count": 59,
      "outputs": [
        {
          "output_type": "execute_result",
          "data": {
            "text/plain": [
              "   Filename                                            Content\n",
              "77     1937  \\nCOMBATIENTES de España:\\n\\nA los que estáis ...\n",
              "20     1938  \\nEste primer día del nuevo año, bajo el signo...\n",
              "15     1939  \\nEspañoles:\\n\\nLa guerra de liberación ha pla...\n",
              "54     1946  \\nEspañoles:\\n\\nEn esta noche en que los hogar...\n",
              "8      1947  Anoche, momentos antes de dar las doce, Su Exc...\n",
              "..      ...                                                ...\n",
              "61     2017  Buenas noches,\\nMe dirijo a todos vosotros par...\n",
              "58     2018  B​uenas noches.\\n\\nEn estos días tan especiale...\n",
              "38     2019  Buenas noches,\\n\\nHace cinco años tuve el hono...\n",
              "57     2020  Buenas noches,\\n\\nMe dirijo a vosotros en esta...\n",
              "78     2021  Buenas noches,\\n\\nMis primeras palabras en est...\n",
              "\n",
              "[79 rows x 2 columns]"
            ],
            "text/html": [
              "\n",
              "  <div id=\"df-e8881f4b-56a9-4baf-a804-81fb22161b14\" class=\"colab-df-container\">\n",
              "    <div>\n",
              "<style scoped>\n",
              "    .dataframe tbody tr th:only-of-type {\n",
              "        vertical-align: middle;\n",
              "    }\n",
              "\n",
              "    .dataframe tbody tr th {\n",
              "        vertical-align: top;\n",
              "    }\n",
              "\n",
              "    .dataframe thead th {\n",
              "        text-align: right;\n",
              "    }\n",
              "</style>\n",
              "<table border=\"1\" class=\"dataframe\">\n",
              "  <thead>\n",
              "    <tr style=\"text-align: right;\">\n",
              "      <th></th>\n",
              "      <th>Filename</th>\n",
              "      <th>Content</th>\n",
              "    </tr>\n",
              "  </thead>\n",
              "  <tbody>\n",
              "    <tr>\n",
              "      <th>77</th>\n",
              "      <td>1937</td>\n",
              "      <td>\\nCOMBATIENTES de España:\\n\\nA los que estáis ...</td>\n",
              "    </tr>\n",
              "    <tr>\n",
              "      <th>20</th>\n",
              "      <td>1938</td>\n",
              "      <td>\\nEste primer día del nuevo año, bajo el signo...</td>\n",
              "    </tr>\n",
              "    <tr>\n",
              "      <th>15</th>\n",
              "      <td>1939</td>\n",
              "      <td>\\nEspañoles:\\n\\nLa guerra de liberación ha pla...</td>\n",
              "    </tr>\n",
              "    <tr>\n",
              "      <th>54</th>\n",
              "      <td>1946</td>\n",
              "      <td>\\nEspañoles:\\n\\nEn esta noche en que los hogar...</td>\n",
              "    </tr>\n",
              "    <tr>\n",
              "      <th>8</th>\n",
              "      <td>1947</td>\n",
              "      <td>Anoche, momentos antes de dar las doce, Su Exc...</td>\n",
              "    </tr>\n",
              "    <tr>\n",
              "      <th>...</th>\n",
              "      <td>...</td>\n",
              "      <td>...</td>\n",
              "    </tr>\n",
              "    <tr>\n",
              "      <th>61</th>\n",
              "      <td>2017</td>\n",
              "      <td>Buenas noches,\\nMe dirijo a todos vosotros par...</td>\n",
              "    </tr>\n",
              "    <tr>\n",
              "      <th>58</th>\n",
              "      <td>2018</td>\n",
              "      <td>B​uenas noches.\\n\\nEn estos días tan especiale...</td>\n",
              "    </tr>\n",
              "    <tr>\n",
              "      <th>38</th>\n",
              "      <td>2019</td>\n",
              "      <td>Buenas noches,\\n\\nHace cinco años tuve el hono...</td>\n",
              "    </tr>\n",
              "    <tr>\n",
              "      <th>57</th>\n",
              "      <td>2020</td>\n",
              "      <td>Buenas noches,\\n\\nMe dirijo a vosotros en esta...</td>\n",
              "    </tr>\n",
              "    <tr>\n",
              "      <th>78</th>\n",
              "      <td>2021</td>\n",
              "      <td>Buenas noches,\\n\\nMis primeras palabras en est...</td>\n",
              "    </tr>\n",
              "  </tbody>\n",
              "</table>\n",
              "<p>79 rows × 2 columns</p>\n",
              "</div>\n",
              "    <div class=\"colab-df-buttons\">\n",
              "\n",
              "  <div class=\"colab-df-container\">\n",
              "    <button class=\"colab-df-convert\" onclick=\"convertToInteractive('df-e8881f4b-56a9-4baf-a804-81fb22161b14')\"\n",
              "            title=\"Convert this dataframe to an interactive table.\"\n",
              "            style=\"display:none;\">\n",
              "\n",
              "  <svg xmlns=\"http://www.w3.org/2000/svg\" height=\"24px\" viewBox=\"0 -960 960 960\">\n",
              "    <path d=\"M120-120v-720h720v720H120Zm60-500h600v-160H180v160Zm220 220h160v-160H400v160Zm0 220h160v-160H400v160ZM180-400h160v-160H180v160Zm440 0h160v-160H620v160ZM180-180h160v-160H180v160Zm440 0h160v-160H620v160Z\"/>\n",
              "  </svg>\n",
              "    </button>\n",
              "\n",
              "  <style>\n",
              "    .colab-df-container {\n",
              "      display:flex;\n",
              "      gap: 12px;\n",
              "    }\n",
              "\n",
              "    .colab-df-convert {\n",
              "      background-color: #E8F0FE;\n",
              "      border: none;\n",
              "      border-radius: 50%;\n",
              "      cursor: pointer;\n",
              "      display: none;\n",
              "      fill: #1967D2;\n",
              "      height: 32px;\n",
              "      padding: 0 0 0 0;\n",
              "      width: 32px;\n",
              "    }\n",
              "\n",
              "    .colab-df-convert:hover {\n",
              "      background-color: #E2EBFA;\n",
              "      box-shadow: 0px 1px 2px rgba(60, 64, 67, 0.3), 0px 1px 3px 1px rgba(60, 64, 67, 0.15);\n",
              "      fill: #174EA6;\n",
              "    }\n",
              "\n",
              "    .colab-df-buttons div {\n",
              "      margin-bottom: 4px;\n",
              "    }\n",
              "\n",
              "    [theme=dark] .colab-df-convert {\n",
              "      background-color: #3B4455;\n",
              "      fill: #D2E3FC;\n",
              "    }\n",
              "\n",
              "    [theme=dark] .colab-df-convert:hover {\n",
              "      background-color: #434B5C;\n",
              "      box-shadow: 0px 1px 3px 1px rgba(0, 0, 0, 0.15);\n",
              "      filter: drop-shadow(0px 1px 2px rgba(0, 0, 0, 0.3));\n",
              "      fill: #FFFFFF;\n",
              "    }\n",
              "  </style>\n",
              "\n",
              "    <script>\n",
              "      const buttonEl =\n",
              "        document.querySelector('#df-e8881f4b-56a9-4baf-a804-81fb22161b14 button.colab-df-convert');\n",
              "      buttonEl.style.display =\n",
              "        google.colab.kernel.accessAllowed ? 'block' : 'none';\n",
              "\n",
              "      async function convertToInteractive(key) {\n",
              "        const element = document.querySelector('#df-e8881f4b-56a9-4baf-a804-81fb22161b14');\n",
              "        const dataTable =\n",
              "          await google.colab.kernel.invokeFunction('convertToInteractive',\n",
              "                                                    [key], {});\n",
              "        if (!dataTable) return;\n",
              "\n",
              "        const docLinkHtml = 'Like what you see? Visit the ' +\n",
              "          '<a target=\"_blank\" href=https://colab.research.google.com/notebooks/data_table.ipynb>data table notebook</a>'\n",
              "          + ' to learn more about interactive tables.';\n",
              "        element.innerHTML = '';\n",
              "        dataTable['output_type'] = 'display_data';\n",
              "        await google.colab.output.renderOutput(dataTable, element);\n",
              "        const docLink = document.createElement('div');\n",
              "        docLink.innerHTML = docLinkHtml;\n",
              "        element.appendChild(docLink);\n",
              "      }\n",
              "    </script>\n",
              "  </div>\n",
              "\n",
              "\n",
              "<div id=\"df-6ca7afc2-7439-4720-8e5b-01fe0d4a330c\">\n",
              "  <button class=\"colab-df-quickchart\" onclick=\"quickchart('df-6ca7afc2-7439-4720-8e5b-01fe0d4a330c')\"\n",
              "            title=\"Suggest charts\"\n",
              "            style=\"display:none;\">\n",
              "\n",
              "<svg xmlns=\"http://www.w3.org/2000/svg\" height=\"24px\"viewBox=\"0 0 24 24\"\n",
              "     width=\"24px\">\n",
              "    <g>\n",
              "        <path d=\"M19 3H5c-1.1 0-2 .9-2 2v14c0 1.1.9 2 2 2h14c1.1 0 2-.9 2-2V5c0-1.1-.9-2-2-2zM9 17H7v-7h2v7zm4 0h-2V7h2v10zm4 0h-2v-4h2v4z\"/>\n",
              "    </g>\n",
              "</svg>\n",
              "  </button>\n",
              "\n",
              "<style>\n",
              "  .colab-df-quickchart {\n",
              "      --bg-color: #E8F0FE;\n",
              "      --fill-color: #1967D2;\n",
              "      --hover-bg-color: #E2EBFA;\n",
              "      --hover-fill-color: #174EA6;\n",
              "      --disabled-fill-color: #AAA;\n",
              "      --disabled-bg-color: #DDD;\n",
              "  }\n",
              "\n",
              "  [theme=dark] .colab-df-quickchart {\n",
              "      --bg-color: #3B4455;\n",
              "      --fill-color: #D2E3FC;\n",
              "      --hover-bg-color: #434B5C;\n",
              "      --hover-fill-color: #FFFFFF;\n",
              "      --disabled-bg-color: #3B4455;\n",
              "      --disabled-fill-color: #666;\n",
              "  }\n",
              "\n",
              "  .colab-df-quickchart {\n",
              "    background-color: var(--bg-color);\n",
              "    border: none;\n",
              "    border-radius: 50%;\n",
              "    cursor: pointer;\n",
              "    display: none;\n",
              "    fill: var(--fill-color);\n",
              "    height: 32px;\n",
              "    padding: 0;\n",
              "    width: 32px;\n",
              "  }\n",
              "\n",
              "  .colab-df-quickchart:hover {\n",
              "    background-color: var(--hover-bg-color);\n",
              "    box-shadow: 0 1px 2px rgba(60, 64, 67, 0.3), 0 1px 3px 1px rgba(60, 64, 67, 0.15);\n",
              "    fill: var(--button-hover-fill-color);\n",
              "  }\n",
              "\n",
              "  .colab-df-quickchart-complete:disabled,\n",
              "  .colab-df-quickchart-complete:disabled:hover {\n",
              "    background-color: var(--disabled-bg-color);\n",
              "    fill: var(--disabled-fill-color);\n",
              "    box-shadow: none;\n",
              "  }\n",
              "\n",
              "  .colab-df-spinner {\n",
              "    border: 2px solid var(--fill-color);\n",
              "    border-color: transparent;\n",
              "    border-bottom-color: var(--fill-color);\n",
              "    animation:\n",
              "      spin 1s steps(1) infinite;\n",
              "  }\n",
              "\n",
              "  @keyframes spin {\n",
              "    0% {\n",
              "      border-color: transparent;\n",
              "      border-bottom-color: var(--fill-color);\n",
              "      border-left-color: var(--fill-color);\n",
              "    }\n",
              "    20% {\n",
              "      border-color: transparent;\n",
              "      border-left-color: var(--fill-color);\n",
              "      border-top-color: var(--fill-color);\n",
              "    }\n",
              "    30% {\n",
              "      border-color: transparent;\n",
              "      border-left-color: var(--fill-color);\n",
              "      border-top-color: var(--fill-color);\n",
              "      border-right-color: var(--fill-color);\n",
              "    }\n",
              "    40% {\n",
              "      border-color: transparent;\n",
              "      border-right-color: var(--fill-color);\n",
              "      border-top-color: var(--fill-color);\n",
              "    }\n",
              "    60% {\n",
              "      border-color: transparent;\n",
              "      border-right-color: var(--fill-color);\n",
              "    }\n",
              "    80% {\n",
              "      border-color: transparent;\n",
              "      border-right-color: var(--fill-color);\n",
              "      border-bottom-color: var(--fill-color);\n",
              "    }\n",
              "    90% {\n",
              "      border-color: transparent;\n",
              "      border-bottom-color: var(--fill-color);\n",
              "    }\n",
              "  }\n",
              "</style>\n",
              "\n",
              "  <script>\n",
              "    async function quickchart(key) {\n",
              "      const quickchartButtonEl =\n",
              "        document.querySelector('#' + key + ' button');\n",
              "      quickchartButtonEl.disabled = true;  // To prevent multiple clicks.\n",
              "      quickchartButtonEl.classList.add('colab-df-spinner');\n",
              "      try {\n",
              "        const charts = await google.colab.kernel.invokeFunction(\n",
              "            'suggestCharts', [key], {});\n",
              "      } catch (error) {\n",
              "        console.error('Error during call to suggestCharts:', error);\n",
              "      }\n",
              "      quickchartButtonEl.classList.remove('colab-df-spinner');\n",
              "      quickchartButtonEl.classList.add('colab-df-quickchart-complete');\n",
              "    }\n",
              "    (() => {\n",
              "      let quickchartButtonEl =\n",
              "        document.querySelector('#df-6ca7afc2-7439-4720-8e5b-01fe0d4a330c button');\n",
              "      quickchartButtonEl.style.display =\n",
              "        google.colab.kernel.accessAllowed ? 'block' : 'none';\n",
              "    })();\n",
              "  </script>\n",
              "</div>\n",
              "\n",
              "  <div id=\"id_832df07e-a6fd-48ff-8042-f51d85cc9f84\">\n",
              "    <style>\n",
              "      .colab-df-generate {\n",
              "        background-color: #E8F0FE;\n",
              "        border: none;\n",
              "        border-radius: 50%;\n",
              "        cursor: pointer;\n",
              "        display: none;\n",
              "        fill: #1967D2;\n",
              "        height: 32px;\n",
              "        padding: 0 0 0 0;\n",
              "        width: 32px;\n",
              "      }\n",
              "\n",
              "      .colab-df-generate:hover {\n",
              "        background-color: #E2EBFA;\n",
              "        box-shadow: 0px 1px 2px rgba(60, 64, 67, 0.3), 0px 1px 3px 1px rgba(60, 64, 67, 0.15);\n",
              "        fill: #174EA6;\n",
              "      }\n",
              "\n",
              "      [theme=dark] .colab-df-generate {\n",
              "        background-color: #3B4455;\n",
              "        fill: #D2E3FC;\n",
              "      }\n",
              "\n",
              "      [theme=dark] .colab-df-generate:hover {\n",
              "        background-color: #434B5C;\n",
              "        box-shadow: 0px 1px 3px 1px rgba(0, 0, 0, 0.15);\n",
              "        filter: drop-shadow(0px 1px 2px rgba(0, 0, 0, 0.3));\n",
              "        fill: #FFFFFF;\n",
              "      }\n",
              "    </style>\n",
              "    <button class=\"colab-df-generate\" onclick=\"generateWithVariable('df')\"\n",
              "            title=\"Generate code using this dataframe.\"\n",
              "            style=\"display:none;\">\n",
              "\n",
              "  <svg xmlns=\"http://www.w3.org/2000/svg\" height=\"24px\"viewBox=\"0 0 24 24\"\n",
              "       width=\"24px\">\n",
              "    <path d=\"M7,19H8.4L18.45,9,17,7.55,7,17.6ZM5,21V16.75L18.45,3.32a2,2,0,0,1,2.83,0l1.4,1.43a1.91,1.91,0,0,1,.58,1.4,1.91,1.91,0,0,1-.58,1.4L9.25,21ZM18.45,9,17,7.55Zm-12,3A5.31,5.31,0,0,0,4.9,8.1,5.31,5.31,0,0,0,1,6.5,5.31,5.31,0,0,0,4.9,4.9,5.31,5.31,0,0,0,6.5,1,5.31,5.31,0,0,0,8.1,4.9,5.31,5.31,0,0,0,12,6.5,5.46,5.46,0,0,0,6.5,12Z\"/>\n",
              "  </svg>\n",
              "    </button>\n",
              "    <script>\n",
              "      (() => {\n",
              "      const buttonEl =\n",
              "        document.querySelector('#id_832df07e-a6fd-48ff-8042-f51d85cc9f84 button.colab-df-generate');\n",
              "      buttonEl.style.display =\n",
              "        google.colab.kernel.accessAllowed ? 'block' : 'none';\n",
              "\n",
              "      buttonEl.onclick = () => {\n",
              "        google.colab.notebook.generateWithVariable('df');\n",
              "      }\n",
              "      })();\n",
              "    </script>\n",
              "  </div>\n",
              "\n",
              "    </div>\n",
              "  </div>\n"
            ],
            "application/vnd.google.colaboratory.intrinsic+json": {
              "type": "dataframe",
              "variable_name": "df",
              "summary": "{\n  \"name\": \"df\",\n  \"rows\": 79,\n  \"fields\": [\n    {\n      \"column\": \"Filename\",\n      \"properties\": {\n        \"dtype\": \"object\",\n        \"num_unique_values\": 79,\n        \"samples\": [\n          \"1973\",\n          \"1937\",\n          \"1965\"\n        ],\n        \"semantic_type\": \"\",\n        \"description\": \"\"\n      }\n    },\n    {\n      \"column\": \"Content\",\n      \"properties\": {\n        \"dtype\": \"string\",\n        \"num_unique_values\": 79,\n        \"samples\": [\n          \"Espa\\u00f1oles:\\n\\nSean mis primeras palabras de reconocimiento p\\u00fablico a la serenidad, la adhesi\\u00f3n y la confianza que el pueblo espa\\u00f1ol me ha ofrecido con motivo del criminal atentado de que fue v\\u00edctima nuestro Presidente de Gobierno y funcionarios que le acompa\\u00f1aban, ca\\u00eddos en el cumplimiento de su deber. El dolor de todos es el dolor de Espa\\u00f1a.\\n\\nNo quiero daros expresi\\u00f3n m\\u00e1s elocuente de su gran figura que los treinta y dos a\\u00f1os de directa y generosa colaboraci\\u00f3n, durante los cuales demostr\\u00f3 su permanente fidelidad a los Principios del Movimiento Nacional y su lealtad acrisolada hacia la Patria. Su muerte ha sido, como fue toda su vida y su obra, un acto m\\u00e1s de entrega a Espa\\u00f1a.\\n\\nEsta cobarde agresi\\u00f3n, nacida de un esp\\u00edritu insolidario y an\\u00e1rquico, no ha sido dirigida solamente contra el Presidente del gobierno, sino contra la misma sociedad espa\\u00f1ola, contra la paz y el orden de nuestra Patria.\\n\\nLa onda de violencia que sufre el mundo, y de su existencia dan prueba casi diariamente los repetidos atentados que se producen en los m\\u00e1s diversos sectores por parte de mentes desequilibradas, que intentan detener con los instrumentos de la t\\u00e9cnica la firme marcha de los pueblos, tiene la condena universal.\\n\\nMADUREZ DEL PUEBLO ESPA\\u00d1OL Y LA FIRMEZA INSTITUCIONAL\\n\\nLa violencia de una peque\\u00f1a minor\\u00eda, postulada desde el exterior, que a nadie y a nada representa, se ahoga en la madurez del pueblo espa\\u00f1ol, cuya serenidad y confianza se asientan en la seguridad de que los \\u00f3rganos del Estado administran justicia y aseguran el orden bajo el imperio de la Ley. Las instituciones han funcionado insertadas en nuestro pueblo.\\n\\nAnte una situaci\\u00f3n en que el mundo est\\u00e1 aquejado de tensiones y amenazado por la insuficiencia y encarecimiento de la energ\\u00eda, hemos de aunar los esfuerzos que permitan combinar nuestro constante crecimiento con la distribuci\\u00f3n equitativa que exige nuestra justicia social.\\n\\nLa vitalidad de nuestras Leyes Fundamentales ha respondido al mantenimiento de la paz y disciplina internas y a la confianza general que en ellas se ten\\u00eda puesta. Lo que bajo otro R\\u00e9gimen hubiera constituido la fragilidad y alteraci\\u00f3n profunda de todo un Sistema, en nosotros sirvi\\u00f3 para robustecer nuestros ideales y unir a los espa\\u00f1oles para su cerrada defensa. No ha habido siquiera que acudir a las medidas de excepci\\u00f3n que las Leyes contemplan, porque del orden y la paz respondieron la confianza y el anhelo de todos los espa\\u00f1oles.\\n\\nREFORZAR LAS ESTRUCTURAS POL\\u00cdTICAS\\n\\nA los pueblos no se les puede juzgar por las apariencias exteriores de la sociedad de consumo, por la frivolidad de una parte de sus clases sociales. Existe en ellas lo que no se ve, lo que han calado los ideales de nuestro Movimiento en el buen pueblo espa\\u00f1ol, que se pone de manifiesto en todas las grandes ocasiones, que debe llenar de satisfacci\\u00f3n a cuantos han contribuido a crearlos.\\n\\nHubo tiempos dif\\u00edciles en que supimos resistir y luego superar con un animoso esp\\u00edritu de austeridad una grave etapa de escasez. Gracias al trabajo diario y an\\u00f3nimo de los espa\\u00f1oles, nuestro pa\\u00eds despeg\\u00f3 econ\\u00f3micamente y los beneficios del desarrollo se hicieron sentir en todos los hogares.\\n\\nEs virtud del hombre pol\\u00edtico la de convertir los males en bienes. No en vano reza el adagio popular \\\"que no hay mal que por bien no venga\\\". De aqu\\u00ed la necesidad de reforzar nuestras estructuras pol\\u00edticas y recoger los anhelos de tantos espa\\u00f1oles benem\\u00e9ritos que constituyen la solera de nuestro Movimiento.\\n\\nESPA\\u00d1A EN EL MUNDO\\n\\nLa convicci\\u00f3n de que las diferentes naciones forman una comunidad mundial, interdependiente, es hoy m\\u00e1s necesaria que nunca. Espa\\u00f1a seguir\\u00e1 prestando todo su apoyo a la defensa de la paz y al estrechamiento de las relaciones entre los pueblos.\\n\\nEn el umbral del nuevo a\\u00f1o contemplamos una realidad mundial que sufre una profunda crisis. No podemos desconocer la magnitud y el sentido de esta nueva situaci\\u00f3n. Con serenidad, con la confianza en la humanidad a la que nunca le faltar\\u00e1 la asistencia de Dios, habr\\u00e1 que afrontar los nuevos retos.\\n\\nAnte el comienzo del nuevo a\\u00f1o queremos reafirmar que la paz entre las naciones constituye el objetivo cardinal de nuestra pol\\u00edtica exterior y que nuestro pa\\u00eds, fiel a su vocaci\\u00f3n, contribuir\\u00e1 con todos sus medios a asentarla sobre el \\u00fanico cimiento reguero: la firmeza, la justicia y la solidaridad.\\n\\nS\\u00f3lo a trav\\u00e9s de la conciencia de la dignidad de los pueblos y la necesidad de cooperaci\\u00f3n entre todas las naciones se podr\\u00e1 conseguir una aut\\u00e9ntica paz que supere las tensiones existentes.\\n\\nEspa\\u00f1a, como ra\\u00edz de la gran familia de los pueblos hispano-americanos, con los que se siente indisolublemente hermanada, ha seguido a lo largo de 1973 intensificando su cooperaci\\u00f3n con ellos en todos los campos: econ\\u00f3mico, t\\u00e9cnico y cultural, como lo demuestran la Conferencia Iberoamericana de Ministros de Planificaci\\u00f3n y Desarrollo y las Jornadas Hispano-Andinas, celebradas en Madrid.\\n\\nNuestros estrechos v\\u00ednculos con Portugal siguen esta misma l\\u00ednea de reforzar la colaboraci\\u00f3n entre los dos pueblos hermanos de la Pen\\u00ednsula.\\n\\nSin embargo, la econom\\u00eda de Occidente se ve gravemente amenazada por las dificultades en el sector de la energ\\u00eda, que, de prolongarse, provocar\\u00edan efectos muy negativos no s\\u00f3lo en los pa\\u00edses occidentales, sino tambi\\u00e9n, a la larga, en todo el mundo.\\n\\nEn la actual crisis de hidrocarburos adquiere especial relevancia nuestra tradicional amistad con los pa\\u00edses \\u00e1rabes, y estos pueblos han sabido corresponder a este sentimiento al situar a nuestra Patria entre sus amigos.\\n\\n\\n\\nVOCACI\\u00d3N DE SERVICIO A LA PATRIA\\n\\n\\n\\nEn estas horas, el Pr\\u00edncipe de Espa\\u00f1a ha vivido con honda emoci\\u00f3n compartiendo el sentir general de la naci\\u00f3n, con la discreci\\u00f3n, prudencia y virtudes castrenses que le son familiares, mientras nuestras Fuerzas Armadas, s\\u00f3lido y supremo pilar de la unidad e independencia de la Patria, han sabido en todo momento hacer honor a su glorioso historial de dedicaci\\u00f3n y disciplina, del que nos queda como ejemplo el Capit\\u00e1n General de la Armada, don Luis Carrero Blanco, que ha venido a engrosar el patrimonio castrense de entrega y de lealtades.\\n\\nDespu\\u00e9s de treinta y siete a\\u00f1os al frente del Estado, aqu\\u00ed me ten\\u00e9is con vosotros, con la misma vocaci\\u00f3n de servicio a la Patria que siempre tuve, consciente de que la autoridad no puede ser nunca un privilegio, sino un deber que exige fidelidad y sacrificio.\\n\\n\\n\\nLA UNIDAD, CLAVE DEL \\u00c9XITO\\n\\nSab\\u00e9is que la clave del \\u00e9xito de nuestra obra de resurgimiento nacional es la unidad. Con ella pudimos superar en los momentos m\\u00e1s dif\\u00edciles y en ella se asienta nuestra fortaleza. Unidad que no significa uniformidad, pero ,que es fundamento b\\u00e1sico para evitar la dispersi\\u00f3n que conduce al caos.\\n\\nSon tan trascendentes estos conceptos con los que hoy he retenido vuestra atenci\\u00f3n, que no desear\\u00eda distraeros con los logros alcanzados en los dem\\u00e1s problemas cotidianos.\\n\\nSiempre ha contado Espa\\u00f1a con mi dedicaci\\u00f3n, que no le faltar\\u00e1, puesto que mi vida entera ha estado, est\\u00e1 y estar\\u00e1 al servicio de los espa\\u00f1oles.\\n\\nEn estas Navidades y nuevo a\\u00f1o quiero enviar a todos los espa\\u00f1oles.. y de modo particular a aquellos que est\\u00e1n lejos de sus hogares, mi saludo cordial, deseando a todos las mayores venturas para el a\\u00f1o que comienza.\\n\\u00a1Arriba Espa\\u00f1a!\",\n          \"\\nCOMBATIENTES de Espa\\u00f1a:\\n\\nA los que est\\u00e1is en las trincheras bajo la lluvia y el fr\\u00edo y las balas, yo os env\\u00edo mi fe ardiente que se une con la vuestra de una pr\\u00f3xima y definitiva victoria. A los que en la segunda l\\u00ednea padec\\u00e9is dolor y sufrimiento -viudas, madres; hijos hermanos- os mando mi piedad y mi gratitud por vuestro esfuerzo que es el combate silencioso de todos los d\\u00edas para que la victoria se alcance en la primera l\\u00ednea, para que sea fecundo y duradero el af\\u00e1n de vuestros combatientes por la instauraci\\u00f3n de un orden nuevo. A vosotros, trabajadores de Espa\\u00f1a, que dais vuestras fatigas por una Espa\\u00f1a mejor y m\\u00e1s justa, yo as\\u00ed os lo prometo. A todos os mando mi aliento y mi cari\\u00f1o.\\n\\n\\u00a1Combatientes de Espa\\u00f1a!, por la victoria de nuestra Causa, que es la Causa del mundo cristiano en la tierra:\\n\\u00a1Arriba Espa\\u00f1a!\",\n          \"\\n\\n\\nEspa\\u00f1oles:\\n\\nSon ya muchas las veces que en estos d\\u00edas de fines del a\\u00f1o, propicios a la intimidad hogare\\u00f1a y a las reflexiones espirituales, tras haber pasado en la paz de Dios unas nuevas Navidades, os invite a meditar juntos sobre el futuro de la Patria, ya que de su buena marcha no s\\u00f3lo depende el bienestar general de la gran familia espa\\u00f1ola, sino el particular de vuestros propios hogares.\\n\\nHoy podemos pensar en Espa\\u00f1a con la serenidad adquirida tras un largo per\\u00edodo de paz, de estabilidad sin precedentes en nuestra historia, que nos ha hecho recuperar la fe en nuestro destino. Tras siglo y medio de divisiones y luchas intestinas, de cat\\u00e1strofes, vacilaciones y fracasos, cuyas \\u00faltimas consecuencias conocieron directamente muchos de los que me escuchan, Espa\\u00f1a ha vuelto a saber del \\u00e9xito en sus proyectos, la seguridad de su sistema de convivencia y la firmeza de su rumbo hist\\u00f3rico. Son veintis\\u00e9is a\\u00f1os de paz, tras los a\\u00f1os tensos y heroicos en la guerra, en los que hemos vivido unidos en ideal com\\u00fan, manteniendo con tenacidad infatigable nuestros prop\\u00f3sitos de justicia, armon\\u00eda y grandeza, mientras a nuestro alrededor un mundo problem\\u00e1tico provocaba conflictos dolorosos y alteraciones dram\\u00e1ticas en la vida de gran parte de los pa\\u00edses.\\n\\nEL VERDADERO PATRIOTISMO\\n\\nEs natural, por tanto, que nos sintamos compenetrados en nuestras preocupaciones y hermanados en el enfrentamiento de las distintas coyunturas por las que va pasando la Patria. Nuestra pol\\u00edtica est\\u00e1 basada en sencillas y claras razones de unidad y de armon\\u00eda, y no necesita de adornos ret\\u00f3ricos ni espectaculares razones para justificarse; tratamos de resolver con honradez y eficacia los problemas que se nos plantean, y nuestra mayor alegr\\u00eda es poder prevenirlos, para, cuando sea posible, que no lleguen a plantearse como tales. Quisi\\u00e9ramos que todos los espa\\u00f1oles tuvieran conciencia clara de la primac\\u00eda de este objetivo y comprendiesen c\\u00f3mo en muchas ocasiones el patriotismo consiste en abandonar empecinamientos y orgullos de grupo y colaborar, sin reservas, en robustecer la l\\u00ednea de prop\\u00f3sitos que m\\u00e1s directa y f\\u00e1cilmente nos lleve hacia la satisfacci\\u00f3n de las demandas de estabilidad, continuidad y eficacia que nos son exigidas, no s\\u00f3lo por la m\\u00e1s aut\\u00e9ntica y extendida opini\\u00f3n nacional, sino tambi\\u00e9n por los imperativos de la hora internacional.\\n\\nUN MUNDO EN PELIGRO\\n\\nYo quisiera grabar en vuestro \\u00e1nimo que la sensaci\\u00f3n de paz que en el interior disfrutamos no nos independiza de los problemas del mundo que nos rodea, y que cuando examinamos nuestra marcha interior hemos de conjugarla con la general que el mundo arrastra. Por eso nuestra pol\\u00edtica necesita aunar dos objetivos: el de servir a la paz, al progreso y a la fortaleza internas, y a lo que interesa a la marcha y futuro de! mundo, del cual no podemos estar ausentes.\\n\\nMuchas veces os he repetido que el mundo no vive tiempos de paz, sino de guerra; de guerras fr\\u00edas o subversivas, como quiera llam\\u00e1rselas; que si la guerra grande no se ha encendido ya es por el justo temor que reina a una mutua y total destrucci\\u00f3n, y porque al agresor le ofrece mejores perspectivas el empleo de su t\\u00e1ctica de subversi\\u00f3n y de guerra pol\\u00edtica. Lo cierto es que el peligro, que un d\\u00eda amenaz\\u00f3 a nuestra Patria con destruirla, hoy se cierne sobre una gran parte del universo.\\n\\nHAY QUE COMBATIR CON IDEALES\\n\\nLa batalla que el comunismo nos tiene planteada es, en el fondo, una gran batalla pol\\u00edtica. Por ello las armas necesitan ser eminentemente pol\\u00edticas. Hay que combatir con ideales, con doctrinas que atraigan y cautiven, que, encerrando eficacia, encaucen los anhelos de las masas populares conquistando a los pueblos. Las armas podr\\u00e1n, en \\u00faltimo extremo, respaldar a la raz\\u00f3n, pero no crearla.\\n\\nEl pretender ego\\u00edstamente que la acci\\u00f3n comunista pueda pararse ante el bienestar alcanzado por las naciones pr\\u00f3ceres constituye una torpe quimera. El mundo se les escapar\\u00eda de sus manos y la tensi\\u00f3n internacional acabar\\u00eda arroll\\u00e1ndoles. \\u00bfSe ha meditado debidamente en la influencia que, en la ordenaci\\u00f3n pol\\u00edtica del mundo futuro, va a tener el paso por el comunismo de m\\u00e1s de la mitad de la poblaci\\u00f3n del universo? \\u00bfNo es una lo- cura el pensar que el remedio pueda estar en que las aguas vuelvan atr\\u00e1s y discurran por sus viejos cauces? La evoluci\\u00f3n pol\\u00edtica de los pueblos marcha siempre hacia adelante, nunca para atr\\u00e1s, y las guerras aceleran este proceso evolutivo. Por ello hay que abrir cauces a la pol\\u00edtica futura, despertar a tiempo a un mundo que, de otra manera, caminar\\u00eda hacia el suicidio. He aqu\\u00ed por qu\\u00e9 si ayer nos dol\\u00eda Espa\\u00f1a hoy nos tiene que doler el mundo.\\n\\nUNA ORDENACI\\u00d3N POL\\u00cdTICA MODERNA Y EFICAZ\\n\\nY si nos circunscribimos a nuestra \\u00e1rea m\\u00e1s pr\\u00f3xima de Europa y a esas ilusiones que tanto se esgrimen de fusi\\u00f3n pol\\u00edtica, hemos de preguntarnos: \\u00bfcu\\u00e1ndo podr\\u00edas llegar a tener una virtualidad? \\u00bfcu\\u00e1l ha de ser el dominador pol\\u00edtico que las unifique? El pretender congelarse en los viejos sistemas los sumir\\u00eda en la ineficacia. Lo cierto es que hasta hoy lo \\u00fanico que ha movido a los pueblos y les ha conducido al sacrificio ha sido el concepto de la Patria o la defensa de la fe. Si as\\u00ed lo fue durante las dos guerras mundiales, \\u00bfpor qu\\u00e9 pretender el sustituir lo que se tiene por lo que nace sin arraigo? \\u00bfEs prudente en los momentos que el Occidente peligra el debilitarle los sumandos? Bueno es el que se trabaje y avance en el campo de las coincidencias y de los objetivos comunes, pero sin confiar en lo que hasta hoy no pasa de ser una aspiraci\\u00f3n.\\n\\nComo pod\\u00e9is deducir de estas consideraciones, las mismas razones que nos impulsaron hace treinta a\\u00f1os a crear nuestro sistema pol\\u00edtico social, nacional y representativo son v\\u00e11idas hoy, y nos aconsejan a\\u00fan con mayor fuerza el mantenerlo y perfeccionarlo con la experiencia adquirida en la navegaci\\u00f3n a trav\\u00e9s de los \\u00faltimos seis lustras. Precisamente en medio de las angustias que el mundo en general sufre, sin acertar a renovarse pol\\u00edticamente, Espa\\u00f1a es contemplada y admirada por muchos pueblos por haber sabido crear dentro de los principios de un sincero sistema representativo una ordenaci\\u00f3n pol\\u00edtica moderna y eficaz.\\n\\nCONFIANZA EN EL PORVENIR\\n\\nEn esta l\\u00ednea de fidelidad al profundo sentir de nuestro pueblo, y conscientes de nuestro deber para la Patria, nos proponemos el reanudar y acelerar nuestro proceso institucional para establecer aquellas medidas que con el asentimiento general y dentro del esp\\u00edritu de nuestras tradiciones y los acontecimientos de nuestra hora han de servir para garantizar en el futuro la continuidad de nuestra obra y la estabilidad de las instituciones m\\u00e1s all\\u00e1 de lo que hace posible una vida humana.\\n\\nEl que en estas complejas circunstancias sigamos nuestro desarrollo pol\\u00edtico paralelo al econ\\u00f3mico y social, caminando con paso firme y s\\u00f3lida unidad, ha de reportar grandes beneficios a nuestra futura convivencia y a nuestro prestigio nacional. Los enemigos de Espa\\u00f1a han aprovechado siempre nuestras divisiones e inseguridades para da\\u00f1ar nuestro cr\\u00e9dito y obtener ventajas a nuestra costa. Hoy tenemos que esforzarnos por presentar al mundo, afectado por profundas crisis y dolorosos problemas, la imagen de un pa\\u00eds capaz de superar todas las adversidades con la plena garant\\u00eda de firmeza y solvencia que corresponde a una comunidad con un alto grado de civilizaci\\u00f3n y de cultura. A una Espa\\u00f1a as\\u00ed concebida, sin improvisaciones ni vaivenes, le esperan las mejores oportunidades en un futuro que deber\\u00e1 recordar siempre a nuestro Glorioso Alzamiento Nacional como el hito decisivo en el resurgimiento espa\\u00f1ol.\\n\\nLa confianza en el porvenir no es fruto de un optimismo sin fundamento, sino de la evidencia de que el trabajo de los espa\\u00f1oles unidos en la paz es capaz de dar un impulso notabil\\u00edsimo a nuestro progreso econ\\u00f3mico y social, como lo demuestra el alto ritmo de crecimiento conseguido en los a\\u00f1os pasados y que se ha mantenido brillantemente en el a\\u00f1o que termina.\\n\\nRESULTADOS SATISFACTORIOS DEL PLAN DE DESARROLLO\\n\\nA dos a\\u00f1os de vigencia de nuestro Plan de Desarrollo Econ\\u00f3mico y Social los resultados son ampliamente satisfactorios. Sus objetivos fundamentales se vienen alcanzando y superando. Sus directrices de pol\\u00edtica econ\\u00f3mica han de seguir llev\\u00e1ndose a la pr\\u00e1ctica en los dos a\\u00f1os que quedan, ya que el Plan es cuatrienal, y el conjunto de sus objetivos habr\\u00e1 de ser realidad al t\\u00e9rmino del a\\u00f1o 1967.\\n\\nEn esto no se puede olvidar que lo econ\\u00f3mico y lo social son interdependientes, marchan estrechamente unidos. Toda mejora social exige una base econ\\u00f3mica que la haga factible, as\\u00ed como no es realizable el progreso econ\\u00f3mico sin una s\\u00f3lida base social. Todo cuanto atente a lo econ\\u00f3mico amenaza tambi\\u00e9n las posibilidades sociales. Para el progreso econ\\u00f3mico es indispensable, de otra parte, la paz social. La confianza que inspira la seguridad de nuestra econom\\u00eda y la paz y orden en que vivimos siguen atrayendo cada a\\u00f1o en mayor medida capitales y t\\u00e9cnicos extranjeros, que contribuyen junto con el esp\\u00edritu empresarial espa\\u00f1ol, tan activo sobre todo en las j\\u00f3venes generaciones, al r\\u00e1pido crecimiento de nuestra industria. Las acciones de desarrollo regional previstas en el Plan han dado ya como resultado la pujante actividad industrial de los polos de promoci\\u00f3n y desarrollo, y durante este a\\u00f1o se han iniciado los de Tierra de Campos y del Campo de Gibraltar, donde una decidida atenci\\u00f3n del Gobierno, fomentando a su vez la iniciativa privada, permitir\\u00e1 que estas zonas de nuestra geograf\\u00eda se incorporen al progreso general del pa\\u00eds y ocupen el lugar que por sus condiciones naturales y por el trabajo de sus habitantes merecen.\\n\\n\\n\\nAHORRO, EQUILIBRIO PRESUPUESTARIO Y DEFENSA DE lA MONEDA\\n\\nEs preciso igualmente que la Administraci\\u00f3n y los particulares evites gastos superfluos, porque necesitamos el dinero para invertirlo donde produzca m\\u00e1s y mejor. Las inversiones productivas son garant\\u00eda de la prosperidad del ma\\u00f1ana. Yo estoy seguro de que los empresarios y los trabajadores y todos los funcionarios p\\u00fablicos, en suma, toda la sociedad espa\\u00f1ola, sabr\\u00e1n poner lo mejor de su inteligencia y de su trabajo para que en el nuevo a\\u00f1o siga adelante este ritmo de avance que llevamos y que no tiene otro objeto que el bienestar de todos los espa\\u00f1oles.\\n\\nNuestro crecimiento econ\\u00f3mico va acompa\\u00f1ado, merced a una atinada pol\\u00edtica de rentas, de una mejor distribuci\\u00f3n de los beneficios, sin olvidar la conveniencia de que, tanto en la esfera p\\u00fab1ica como en la privada, puedan producirse los efectos beneficiosos de la previsi\\u00f3n y del ahorro. Cada a\\u00f1o es mayor la participaci\\u00f3n de los asalariados en el producto nacional. Para que esta mejora en la distribuci\\u00f3n de las rentas no sufra retroceso, es preciso que las retribuciones del trabajo y dem\\u00e1s rentas se acompasen al incremento de la productividad, pues de otro modo se caer\\u00eda en la inflaci\\u00f3n, que, al disminuir el Poder adquisitivo de los salarios, es la mayor enemiga de los trabajadores.\\n\\nTambi\\u00e9n es necesario mantener el equilibrio presupuestario, al cual hemos de subordinar muchas veces nuestros deseos, por justos y urgentes que parezcan, pues es una base indispensable para la fortaleza de nuestra moneda, en defensa de los intereses de nuestras clases menos dotadas econ\\u00f3micamente. Hasta tal punto esta pol\\u00edtica est\\u00e1 inspirada en los m\\u00e1s altos valores de la justicia, que llega a constituir un deber moral grave, como ha declarado solemnemente el Concilio Vaticano II, al decir que \\u00abtodos aquellos que ponen en peligro el valor de la moneda faltan contra el bien com\\u00fan de la propia naci\\u00f3n, e incluso de las otras naciones, y, sobre todo, de los econ\\u00f3micamente d\\u00e9biles, que son los primeros en sufrir injustamente los perjuicios de la disminuci\\u00f3n del valor de la moneda\\u00bb.\\n\\nTRANSFORMACI\\u00d3N DEL CAMPO\\n\\nEn esta misma l\\u00ednea es preocupaci\\u00f3n fundamental del Gobierno mantener la estabilidad del coste de la vida, y buena prueba de ello son los esfuerzos realizados en los tres \\u00faltimos trimestres del a\\u00f1o. Nuestras reservas de oro y de divisas nos permiten efectuar las necesarias importaciones con que frenar los movimientos alcistas de precios que pudieran producirse.\\n\\nLa situaci\\u00f3n de nuestro campo, al cual ha dedicado nuestro R\\u00e9gimen los mayores afanes, ofrece en estos momentos perspectivas mejores. Las obras de transformaci\\u00f3n y mejora de los regad\\u00edos han constituido el empe\\u00f1o m\\u00e1s s\\u00f3lido de nuestro Movimiento. La concentraci\\u00f3n parcelaria y la campa\\u00f1a de extensi\\u00f3n agraria, actividades todas ellas intensificadas por el Plan de Desarrollo, se ven hoy complementadas por acciones espec\\u00edficas de est\\u00edmulo, como es la acci\\u00f3n concertada de la ganader\\u00eda, que, a juzgar por la adhesi\\u00f3n masiva que ha merecido, permite esperar que sean muy pronto alcanzados los objetivos que con ella se ha propuesto el Gobierno. Por otra parte, la indispensable capitalizaci\\u00f3n del campo se ha favorecido durante el a\\u00f1o por una fuerte ayuda de parte del cr\\u00e9dito oficial. La mejora efectiva del nivel de vida que est\\u00e1 experimentando nuestro pueblo le permite consumir cada d\\u00eda m\\u00e1s y mejores productos agrarios, y \\u00e9sta es la mejor perspectiva de que los esfuerzos que nuestros agricultores y ganaderos est\\u00e1n llevando a cabo para elevar la producci6n del campo se ver\\u00e1n recompensados por un mercado creciente.\\n\\n\\n\\nLA BANDERA DE LA JUSTICIA SOCIAL\\n\\nEl progreso social continuado es la clave del arco de nuestra pol\\u00edtica. A muchos les asombra en ocasiones la paz de que se ha beneficiado el pueblo espa\\u00f1ol desde hace veintis\\u00e9is a\\u00f1os, la estabilidad pol\\u00edtica que poseemos, el crecimiento econ\\u00f3mico que caracteriza a nuestra Patria y, sobre ,todo, su constante y segura apertura a formas constitucionales de mayor \\u00e1mbito. Nada hay en esto de milagroso ni tampoco de sumisi\\u00f3n a imposiciones ajenas a la propia voluntad de los espa\\u00f1oles. Todo ello ha sido posible porque desde el primer momento del nacimiento de nuestro Estado hemos colocado en la vanguardia de nuestros afanes la bandera de la justicia social.\\n\\nSin una pol\\u00edtica social justa y avanzada es dif\\u00edcil pensar que un pueblo pueda marchar unido, que una naci\\u00f3n pueda prosperar y que un r\\u00e9gimen pol\\u00edtico pueda ser estable.\\n\\nNo necesito recordaros mi insistencia y preocupaci\\u00f3n permanente en estimular la materializaci\\u00f3n de la doctrina social de nuestro Estado, que naci\\u00f3 precisamente como el resultado espont\\u00e1neo y colectivo de un pueblo que se debat\\u00eda en el marco de una permanente y tremenda situaci\\u00f3n de injusticia, en que le hab\\u00edan sumido muchas d\\u00e9cadas de pol\\u00edtica partidista, de luchas, de camarillas y de paro. Todav\\u00eda en plena guerra, se promulg\\u00f3, con el respaldo del pueblo combatiente, el Fuero del Trabajo, que situ\\u00f3 a Espa\\u00f1a en primera l\\u00ednea de pol\\u00edtica social. De \\u00e9l ha surgido una amplia y valiosa legislaci\\u00f3n social, de la que podemos enorgullecernos leg\\u00edtimamente ante el mundo, y de \\u00e9l crecer\\u00e1n en el futuro nuevas y avanzadas decisiones al servicio de nuestro pueblo.\\n\\nEN LA L\\u00cdNEA DEL CONCILIO\\n\\nHoy el orbe cristiano se siente profundamente conmovido por la vigorosa lecci\\u00f3n de magisterio social que nos ha ofrecido nuestra Iglesia Cat\\u00f3lica a trav\\u00e9s del Concilio Vaticano. Las normas rectoras de la convivencia social que han emanado del mismo son especialmente alentadoras para los espa\\u00f1oles, ya que en ellas vemos reflejadas nuestras mejores aspiraciones y las leg\\u00edtimas ambiciones de justicia social que nos movieron en todo instante, tantas veces sin contar en torno con la comprensi\\u00f3n que merec\\u00eda, en circunstancias m\\u00e1s dif\\u00edciles acaso que ning\\u00fan otro pueblo; pero nosotros hemos luchado por construir un orden social cristiano fiel a los principios evang\\u00e9licos, adaptado con realismo a las circunstancias espec\\u00edficas de nuestro pa\\u00eds y condicionado siempre a la confesionalidad militante de nuestro Estado.\\n\\nAl terminar este a\\u00f1o hist\\u00f3rico de 1965 los espa\\u00f1oles podemos ofrecer a la Iglesia la realidad de unas instituciones sociales acordes con su doctrina y la voluntad irreversible de unas ambiciosas conquistas inmediatas como l\\u00f3gico desarrollo del progreso socia! ganado a costa de tantos esfuerzos, de tantas luchas y tantos sacrificios.\\n\\nMADUREZ SOCIAL DE NUESTRO PUEBLO\\n\\nNuestra permanente fidelidad al esp\\u00edritu del 18 de Julio nos exige avanzar resueltamente en este camino de constante transformaci\\u00f3n de sus estructuras sociales para alcanzar los ambiciosos objetivos que nos propusimos hace treinta a\\u00f1os, en cuyo logro ha empe\\u00f1ado nuestro pueblo grandes y ejemplares sacrificios. De ah\\u00ed que en estos d\\u00edas contemplemos con alegr\\u00eda y segura esperanza las elecciones a trav\\u00e9s de las cuales las trabajadores designan a sus representantes en los Consejos de Administraci\\u00f3n de sus empresas. Y tambi\\u00e9n vemos confirmada la confianza que siempre hemos tenido en los trabajadores, al comprobar c\\u00f3mo se consolidan y prosperan todas esas empresas cooperativas, a las que nuestros Sindicatos dedican sus mejores afanes, que emergen constantemente del paisaje productivo espa\\u00f1ol, como resultado de la pol\\u00edtica de promoci\\u00f3n social, que ha abierto un ancho y prometedor cauce para el acceso a la propiedad. Los resultados altamente positivos de todas estas realizaciones demuestran la madurez socia! de nuestro pueblo y nos estimulan a dar forma institucional a uno de los principios m\\u00e1s exigentes y ambiciosos de nuestro Movimiento.\\n\\nUNA DE LAS REDES HOSPITALARIAS MAS COMPLETAS DE EUROPA\\n\\nA lo largo de este a\\u00f1o la eficacia de nuestra seguridad social se ha visto reforzada con el aumento de su red hospitalaria, con la puesta en servicio de otras cinco residencias sanitarias y treinta y ocho ambulatorios, y el establecimiento de nuevos servicios de urgencia. As\\u00ed, hoy, los trabajadores espa\\u00f1oles cuentan con una de las redes hospitalarias m\\u00e1s completa de Europa, y la calidad cient\\u00edfica y el alto nivel alcanzado por sus servicios sanitarios no s\\u00f3lo han de ser justamente valorados, sino estimulados a un constante perfeccionamiento que garantice al m\\u00e1ximo la seguridad de todas las familias trabajadoras.\\n\\nSi recordamos los tiempos anteriores al Movimiento Nacional, entenderemos la prodigiosa tarea realizada en este campo de la pol\\u00edtica social. Apenas si los trabajadores ten\\u00edan entonces otra protecci\\u00f3n a su vejez, a sus riesgos y a su salud que el famoso seguro de la perra chica, en el mejor de los casos. \\u00bfPudieron so\\u00f1ar entonces con una seguridad total? \\u00bfPudieron suponer que habr\\u00edan de disponer de unas residencias sanitarias cuya asistencia envidian, incluso hoy, los mejores dotados por la fortuna? \\u00bfPod\\u00edan sospechar que sus hijos nacer\\u00edan en una Maternidad o ser\\u00edan atendidos en una cl\\u00ednica infantil como la de la Paz, que puede calificarse como una de las mejores que existen? Nada de eso hubiera sido posible sin la seguridad social, y tampoco sin ella afrontar\\u00edamos hoy los problemas de esta clase si no fuera por el prodigioso aumento del nivel medio de salud de los espa\\u00f1oles, que es uno de los m\\u00e1s grandes triunfos del Seguro de Enfermedad.\\n\\nPROMOCI\\u00d3N SOCIAL Y ACCESO DE LOS TRABAJADORES A LAS T\\u00c9CNICAS MODERNAS\\n\\nEl principio de igualdad de oportunidades que hemos establecido garantiza a los espa\\u00f1oles el no ver limitado su acceso a cualquier puesto, m\\u00e1s que por causa de su capacidad intelectual. El acceso de los trabajadores a la posesi\\u00f3n de unas t\\u00e9cnicas acordes con la exigencia de nuestro tiempo a trav\\u00e9s de los Centros de Formaci\\u00f3n Profesional Acelerada y las Universidades laborales ha cumplido el firme objetivo de la pol\\u00edtica de promoci\\u00f3n social. los programas de promoci\\u00f3n profesional obrera est\\u00e1n haciendo posible, sobre todos los paisajes de Espa\\u00f1a, la transformaci\\u00f3n masiva del peonaje en mano de obra especializada y el acceso a puestos y niveles de bienestar que su falta de cualificaci\\u00f3n les imped\\u00eda. M\\u00e1s de mil monitores y 500 Centros m\\u00f3viles se afanan ya en esta hermosa y apasionada tarea. A ellos se unir\\u00e1n siempre los nuevas promociones y nuevos equipos incorporados a esta subyugante empresa social, en la que el propio Ej\\u00e9rcito participa activamente. M\\u00e1s de nueve mil soldados est\\u00e1n adquiriendo, junto a las virtudes castrenses que entra\\u00f1a el servicio a la Patria, un oficio que les permitir\\u00e1 reincorporarse a la vida civil en mejores condiciones que cuando llegaron a los cuarteles.\\n\\nAlrededor de trescientos mil puestos nuevos de trabajo bien remunerados se han abierto este a\\u00f1o en las nuevas f\\u00e1bricas y en los nuevos servicios que el m\\u00e1s alto nivel de vida exige. Ojal\\u00e1 que este aumento paulatino de nuestra capacidad de empleo nos acerque a la meta deseada de que ning\\u00fan espa\\u00f1ol necesite buscar oportunidades laborales fuera de nuestras fronteras. Afortunadamente, ya se perciben los efectos de nuestro desarrollo industrial en la acusada tendencia decreciente de las cifras de nuestros emigrantes. Hemos de respetar el derecho de nuestros hombres a la libertad de traslado, pero tambi\\u00e9n hemos de conseguir, por todos los medios, que la marcha de los espa\\u00f1oles al extranjero nunca est\\u00e9 promovida por falta en Espa\\u00f1a de un adecuado puesto de trabajo.\\n\\nPELIGROS DE LA EMIGRACI\\u00d3N FEMENINA\\n\\nEn este orden demanda cuidado especial el caso de la emigraci\\u00f3n aislada femenina que, sin las garant\\u00edas debidas, arrastra a nuestras j\\u00f3venes a una aventura llena de peligros, expuesta a explotaciones, estafas y atropellos en el interior de las grandes urbes, sin que sea f\\u00e1cil el que nuestras autoridades consulares y servicios que establecimos para atender las les puedan prestar la protecci\\u00f3n eficaz y el apoyo debido. Son tantos los casos que descubrimos, desgracias y atropellos sufridos por muchas de estas j\\u00f3venes, que yo aconsejo a las familias espa\\u00f1olas que corten esta clase de emigraci\\u00f3n, innecesaria por otra parte, ya que la situaci\\u00f3n de empleo y remuneraci\\u00f3n de nuestro servicio dom\\u00e9stico es suficientemente satisfactoria para no sujetar a nuestras j\\u00f3venes a estos tristes vej\\u00e1menes.\\n\\nPRIMAC\\u00cdA DE LA EDUCACI\\u00d3N\\n\\nLa primac\\u00eda otorgada a la educaci\\u00f3n como soporte de todos los valores de crecimiento del pa\\u00eds la acusan las cifras que han alcanzado las inversiones en el Plan de Desarrollo y la atenci\\u00f3n que ha merecido el profesorado en todos sus grados y las realizaciones ya logradas, que representan hoy en ense\\u00f1anza media un arrollador impulso, con 176.000 puestos m\\u00e1s que en 1 de octubre de 1963 y 35.000 m\\u00e1s en ense\\u00f1anzas laborales y profesionales. Pronto estaremos en condiciones de que el bachillerato elemental sea obligado para todos los espa\\u00f1oles, con una elevaci\\u00f3n de nuestro nivel medio cultural que ya ha de empezar a alcanzarse en la propia ense\\u00f1anza primaria con la superior formaci\\u00f3n del maestro, que pone a punto la ley \\u00faltimamente aprobada por las Cortes.\\n\\nELEVACI\\u00d3N DEL NIVEL CULTURAL Y CIENT\\u00cdFICO\\n\\nIntentamos que el nivel cultural y cient\\u00edfico de los espa\\u00f1oles alcance el de los pueblos m\\u00e1s avanzados. S\\u00f3lo as\\u00ed podr\\u00e1 gozar plenamente de los bienes que proporciona una s61ida formaci6n cultural. Porque si bien estamos conscientes de hasta qu\\u00e9 punto la obra de este a\\u00f1o ha mejorado la imagen de Espa\\u00f1a, es mucho m\\u00e1s todav\\u00eda lo que deseamos alcanzar. Nosotros no abdicamos de ninguna de las metas ambiciosas del Movimiento para una Espa\\u00f1a m\\u00e1s grande y m\\u00e1s justa; lo que deseamos es servirlas tenaz y constantemente, en un orden pr\\u00e1ctico de realizaciones que nos vaya dando los medios materiales precisos y las bases s\\u00f3lidas en que ir elevando la edificaci\\u00f3n de la Patria. Sabemos que no es \\u00e9sta una obra en la que s\\u00f3lo cuente lo instrumental, sino en la que es primordial el calor humano, la pasi\\u00f3n pol\\u00edtica y el entusiasmo patri\\u00f3tico. Y en este sentido confiamos, como siempre, en la colaboraci\\u00f3n abnegada de quienes sienten plenamente el esp\\u00edritu de nuestro Movimiento y en la presencia de la sociedad, que ha de llegarnos a trav\\u00e9s de sus estructuras sindicales, asociativas y representativas. A todos os convocamos en este esfuerzo colectivo para transformar el rostro de Espa\\u00f1a, para mejorar, para nosotros y para nuestros hijos, la imagen de la Patria, hasta que sea realidad tal y como la so\\u00f1amos en nuestros ideales.\\n\\nFIDELIDAD A LA IGLESIA CAT\\u00d3LICA\\n\\nEspa\\u00f1a sigue y seguir\\u00e1 creciendo, si sabemos continuar unidos y mantenemos nuestro esp\\u00edritu de iniciativa y nuestra voluntad de librar todas las batallas precisas en todos los terrenos. Para ello hemos de perfeccionar, siempre que aparezca como conveniente, nuestros medios de expresi\\u00f3n, nuestros instrumentos de producci\\u00f3n y trabajo, nuestros sistemas de acci\\u00f3n pol\\u00edtica, nuestras instituciones culturales y nuestras fuerzas armadas, a las que, en \\u00faltimo extremo, corresponde el deber y el honor de garantizar todo el conjunto con un respaldo indestructible de seguridad, respeto y fortaleza.\\n\\nNo quisiera en este mensaje de fin de a\\u00f1o dejar de referirme concretamente al hecho hist\\u00f3rico de dimensiones universales, que marca el hito m\\u00e1s destacado de la vida espiritual en el per\\u00edodo que ahora termina. A ese raudal de luz que ha descendido desde la altura para iluminar todos los problemas de la Humanidad y encender los corazones de los hombres en los m\\u00e1s altos ideales de paz, de justicia y de convivencia fraterna: el Concilio Vaticano II, recientemente clausurado bajo el alt\\u00edsimo magisterio de Su Santidad Pablo VI, y en el que han tenido una meritoria participaci\\u00f3n los obispos espa\\u00f1oles, a quienes tanto veneramos y queremos. Este Concilio ha concluido sus tareas dej\\u00e1ndonos un mensaje, que si a cada uno de nosotros nos debe afectar como miembros individuales de la Iglesia, a quienes tenemos responsabilidades de gobierno nos orienta en nuestros deberes sociales con su magisterio insoslayable. Nuestro R\\u00e9gimen, que desde su origen se propuso ser modelo de lealtad a un concepto cat\\u00f3lico de la convivencia, insertando los principios de la doctrina cat\\u00f3lica en nuestras normas fundamentales, continuar\\u00e1 en su futuro desarrollo manteniendo esta lealtad y aceptando plena y consecuentemente los principios doctrinales de nuestra Santa Madre Iglesia, tal como ella los predica y desea en nuestro tiempo.\\n\\nEL CONCILIO VATICANO II\\n\\n\\n\\nEl esp\\u00edritu de la Iglesia de nuestros d\\u00edas habr\\u00e1 de intensificarse a nuestra convivencia social y de reflejarse en nuestras leyes y actos de gobierno, continuando as\\u00ed nuestra fidelidad tradicional al magisterio de los sucesores de San Pedro. De ello recibiremos cada uno de nosotros beneficios espirituales como fieles hijos de la Iglesia y nuestra comunidad nacional, cuya tradici\\u00f3n y sentimiento cat\\u00f3licos deben demostrarse con nuestra aceptaci\\u00f3n y colaboraci\\u00f3n plenaria en el esp\\u00edritu que con la m\\u00e1xima autoridad nos llega de Roma.\\n\\nEstoy seguro de que el pueblo espa\\u00f1ol, con unanimidad fervorosa, al recordar las efem\\u00e9rides importantes acaecidas durante el a\\u00f1o que ahora termina y al agradecer los buenos resultados, no deja de rendir a Dios su calurosa acci\\u00f3n de gracias por el don de las ense\\u00f1anzas recibidas del Concilio. Los que por designio de Dios vivimos consagrados al servicio de todos los espa\\u00f1oles, haciendo de ese servicio, que es a la vez gloria y pesadumbre, sustancia vital de nuestra existencia, recibimos con fervor su autorizada doctrina como apoyo firm\\u00edsimo para continuar con fe renovada la creadora tarea de construir un Estado que, con arreglo al ser propio de un pueblo espa\\u00f1ol, ha de llegar sin duda a constituir la encarnaci\\u00f3n m\\u00e1s fiel y m\\u00e1s bella de los grandes principios del derecho p\\u00fablico cristiano.\\n\\nCONDICIONES PARA UNA PAZ INTERNACIONAL VERDADERA\\n\\nCuando un a\\u00f1o termina con la alegre esperanza de un a\\u00f1o nuevo, pido a todos los espa\\u00f1oles que se entreguen a la tarea, que no es s\\u00f3lo obra de gobernantes, sino que tiene que ser empresa nacional, de seguir la construcci\\u00f3n de ese Estado cristiano, que puede ser ejemplo para la gran familia humana y consuelo para el Vicario de Cristo.\\n\\nSi miramos a la situaci\\u00f3n del mundo actual lo vemos lleno de tensiones, que peri\\u00f3dicamente vienen engendrando peligrosas crisis. Nos encontramos con los hombres lanzados a un proceso terrible de gastos militares que no s\\u00f3lo nos acercan a l\\u00edmites peligrosos de inestabilidad de la paz, sino que constituyen una verdadera sangr\\u00eda de recursos aplicables al desarrollo y progreso de la Humanidad. Por ello, contemplamos hoy la parad\\u00f3jica situaci\\u00f3n de que, habiendo sido movilizadas en el mundo sumas tan inmensas de dinero, haya muchos millones de hombres enteramente desamparados y sumidos en la miseria y la ignorancia. Su Santidad el Papa ha dado, con motivo de su visita a las Naciones Unidas, un nuevo y admirable testimonio de que a la Iglesia de Cristo no le son en absoluto ajenos estos problemas del hombre, y que ella, \\u00abexperta en humanidad\\u00bb -como asimismo se\\u00f1al\\u00f3 nuestro Pont\\u00edfice-, sabe salvar cualquier distancia y dar un paso hacia adelante cuando se trata de cumplir la tarea que le fue encomendada. La paz internacional verdadera s\\u00f3lo ser\\u00e1 posible si se edifica sobre el respeto mutuo y la renuncia a la fuerza y a la injerencia en los asuntos internos de las naciones. Es necesario que se analice de manera objetiva y profunda la causa de esas tensiones para que puedan ser aisladas y tratadas a fondo hasta que desaparezcan.\\n\\nESPA\\u00d1A Y LA PAZ UNIVERSAL\\n\\nEspa\\u00f1a, naci\\u00f3n esencialmente cat\\u00f3lica, viene defendiendo esa tesis para la paz universal. En 1964, contestando a un mensaje del primer ministro sovi\\u00e9tico, se\\u00f1or Kruschev, a prop6sito de este problema, le dec\\u00eda en mi respuesta: \\u00abPero si es indudable la importancia y urgencia del desarme material, a\\u00fan es m\\u00e1s evidente la necesidad de desarraigar los motivos profundos de la guerra. No basta con frenar la carrera de los armamentos. Hay que eliminar los factores que incitan a la violencia, es decir, la injusticia social, la ignorancia, el hambre y la miseria. Y a\\u00fan habr\\u00e1 que ir m\\u00e1s ali\\u00f3 y reconocer que en la ausencia de sentido moral, en las tendencias ideol\\u00f3gicas agresivamente expansivas, en las doctrinas que creen en la inevitabilidad o conveniencia de la guerra como instrumento de afirmaci6n del propio derecho frente a los dem\\u00e1s pueblos reside una causa activ\\u00edsima y permanente de los conflictos. Junto al desarme material urge un rearme moral que fortalezca el respeto mutuo y el esp\\u00edritu de convivencia entre los diversos pa\\u00edses, y que en definitiva haga imposibles las maquinaciones que tienden a destruir, a trav\\u00e9s de la subversi\\u00f3n, el progreso y la paz interna de los pueblos.\\u00bb Por eso creemos que el ansia de paz y de justicia social del hombre s\\u00f3lo podr\\u00e1 encontrar satisfacci\\u00f3n en el renacimiento de los valores espirituales, si se renuncia efectivamente al empleo de la fuerza como soluci\\u00f3n posible de cualquier problema, y se comprometen todos los pa\\u00edses a vincular parte de sus gastos militares para el sostenimiento de una acci\\u00f3n colectiva al servicio del desarrollo econ\\u00f3mico y social de los m\\u00e1s necesitados, y finalmente se acepte la libre decisi\\u00f3n privada de cada pueblo para adoptar la configuraci\\u00f3n interior que consideren m\\u00e1s adecuada a sus peculiaridades.\\n\\nCONTRA EL FALSO PACIFISMO\\n\\nPero enti\\u00e9ndase bien: esos prop\\u00f3sitos no pueden hacernos olvidar la realidad presente ni la existencia de conflictos y tensiones que por no haber encontrado un clima adecuado, hoy se plantean violentamente. Espa\\u00f1a, sin olvidar la doctrina antes expuesta, acepta, sin embargo, cuantas obligaciones puedan derivarse de sus compromisos formales, y est\\u00e1 siempre dispuesta a defender sus propios intereses. Otra cosa ser\\u00eda aceptar un falso pacifismo, que s\\u00f3lo beneficia a quienes utilizan la palabra paz como arma subversiva de tipo propagand\\u00edstico. Precisamente porque amamos la paz sabemos estar siempre preparados a defenderla adecuadamente, discerniendo entre una doctrina positiva aceptada de buena fe y un subterfugio pol\\u00edtico utilizado como elemento corrosivo.\\n\\nUna prueba palpable del verdadero esp\\u00edritu de paz y de entendimiento que anima a Espa\\u00f1a la encontramos hoy en un asunto que ha sido planteado en la esfera internacional, pero en torno a un tema que afecta a nuestros intereses nacionales. Me refiero a Gibraltar, cuyo problema han vivido durante este a\\u00f1o con especial intensidad y vibraci\\u00f3n todos los espa\\u00f1oles.\\n\\nGIBRALTAR: UNA JUSTA E IGNORADA REIVINDICACI\\u00d3N ESPA\\u00d1OLA\\n\\nLa reciente resoluci\\u00f3n de las Naciones Unidas invitando a Inglaterra y Espa\\u00f1a a que entablen el di\\u00e1logo sobre este asunto, resoluci\\u00f3n que Espa\\u00f1a est\\u00e1 dispuesta a cumplir inmediatamente, ha venido a confirmar la existencia real de un conflicto que no es producto de una oportunista maniobra pol\\u00edtica espa\\u00f1ola, sino de una antigua, justa e ignorada reivindicaci\\u00f3n espa\\u00f1ola, sobre la que el sentir de nuestro pueblo es un\\u00e1nime e indeclinable.\\n\\nLos espa\\u00f1oles consideran que la mutilaci\\u00f3n de su integridad territorial en beneficio de unos intereses extranjeros, violando unos principios jur\\u00eddicos e ignorando unas realidades geogr\\u00e1ficas y humanas, constituye un anacronismo inaceptable y un contrasentido en el mundo de hoy que no est\\u00e1n dispuestos a tolerar pasivamente. Para ello, si por un lado est\\u00e1n preparados a encontrar f\\u00f3rmulas pac\\u00edficas de soluci\\u00f3n del problema que salven los leg\\u00edtimos intereses en juego, por otro est\\u00e1n firmemente decididos a crear tal grado de prosperidad en aquella comarca, que el hecho diferencial de que un d\\u00eda disfrut\\u00f3 la plaza se cambie totalmente a nuestro lado.\\n\\nESPA\\u00d1A Y \\u00c1FRICA\\n\\nSi miramos al continente africano, nada de lo que ocurre all\\u00ed nos es extra\\u00f1o, pues al fin y al cabo nuestra secular presencia y la proximidad del continente a las costas de la Pen\\u00ednsula y a nuestras islas Canarias nos hacen en cierto modo africanos a nosotros mismos. Por eso su paz, estabilidad, prosperidad y seguridad no pueden sernos indiferentes.\\n\\nUn especial recuerdo merece en este d\\u00eda la poblaci\\u00f3n de nuestros territorios africanos, objeto siempre de nuestros mayores afanes, con la firme voluntad de seguir promoviendo sin retrasos ni vacilaciones su progreso econ\\u00f3mico, t\\u00e9cnico y estructural que les prepare plenamente para enfrentarse con el futuro. Espa\\u00f1a en todo caso defender\\u00e1 sus libertades y voluntad de libre decisi\\u00f3n, no olvidar\\u00e1 la responsabilidad que le incumbe en estos territorios y su deber de defenderlos contra cualquier acci\\u00f3n exterior que pretenda comprometer su futuro.\\n\\nHISPANOAM\\u00c9RICA: UNA ENTRA\\u00d1ABLE FAMILIA DE NACIONES\\n\\nSiempre que un espa\\u00f1ol considera la presencia de su Patria en el mundo, tiene necesariamente que referirse a la entra\\u00f1able familia de naciones que integran Hispanoam\\u00e9rica, y de la que Espa\\u00f1a es uno de sus miembros.\\n\\nNada de cuanto suceda en cualquiera de ellas nos es ajeno y seguimos con la vibraci\\u00f3n de nuestras propias cosas sus esfuerzos, sus alegr\\u00edas o sus dolores. En esta ocasi\\u00f3n quisi\\u00e9ramos simplemente se\\u00f1alar con cu\\u00e1nta satisfacci\\u00f3n Espa\\u00f1a celebra haber podido ofrecer en la reciente reuni\\u00f3n de la Organizaci\\u00f3n de Estados Americanos, celebrada en R\\u00edo de Janeiro, una colaboraci\\u00f3n material de alguna importancia al desarrollo de aquellos pueblos hermanos. Hemos querido demostrar as\\u00ed que verdaderamente, en cuanto Espa\\u00f1a ha empezado a recoger los beneficios de unos largos a\\u00f1os de paz y de esfuerzos, su primer impulso en el orden exterior le ha conducido forzosamente en la direcci\\u00f3n de esos pa\\u00edses, con la sincera pretensi\\u00f3n de colaborar, aunque sea modestamente, en el proceso de su afirmaci\\u00f3n como entidad con vocaci\\u00f3n propia colectiva.\\n\\nAl hacerlo as\\u00ed pretendemos servir a todos los intereses de la comunidad a que pertenecemos, pues lo que por un lado ha de ser ayuda a pa\\u00edses hermanos, por otro ha de ser est\\u00edmulo vigoroso a nuestra propia actividad econ\\u00f3mica en Hispanoam\\u00e9rica, es decir, desarrollo reciproco de posibilidades que ha de hacer m\\u00e1s denso y m\\u00e1s vital el tejido de nuestras relaciones mutuas.\\n\\nSOLIDARIDAD CON PORTUGAL\\n\\nNo podemos tampoco olvidar en esta hora nuestra solidaridad con nuestra hermana peninsular, la naci\\u00f3n portuguesa, que est\\u00e1 sufriendo un cerco de incomprensi\\u00f3n como el que un d\\u00eda nosotros mismos sufrimos, haciendo votos por el triunfo de su raz\\u00f3n. Una cosa es la emancipaci\\u00f3n de un territorio cuando obedece a corrientes naturales y anhelos internos de independencia, y otra cuando las corrientes son ajenas al sentir de los pueblos y presionadas de fuera adentro.\\n\\nSALUDO A LOS HOGARES ESPA\\u00d1OLES\\n\\nQuiero, por \\u00faltimo, cerrar mis palabras con el emocionado e invariable recuerdo hacia todos los que con su esfuerzo han hecho posible la Espa\\u00f1a en paz que disfrutamos; mi gratitud para quienes dieron todo por la Patria y para aquellos que d\\u00eda a d\\u00eda han venido ofreci\\u00e9ndonos la dedicaci\\u00f3n y colaboraci\\u00f3n precisa para continuar nuestra obra. Mi reconocimiento tambi\\u00e9n para todos los que con su trabajo esforzado, en todos los campos y actividades, contribuyen a edificar la grandeza de Espa\\u00f1a, y mi esperanza en quienes desde las tareas del aprendizaje y el estudio se preparan para servirla ma\\u00f1ana.\\n\\nQue Dios ayude y bendiga a todos los hogares espa\\u00f1oles.\\n\\u00a1Arriba Espa\\u00f1a!\"\n        ],\n        \"semantic_type\": \"\",\n        \"description\": \"\"\n      }\n    }\n  ]\n}"
            }
          },
          "metadata": {},
          "execution_count": 59
        }
      ]
    },
    {
      "cell_type": "code",
      "source": [
        "from spacy.lang.es.stop_words import STOP_WORDS\n",
        "\n",
        "# stop-words to be added to the spaCy STOP_WORDS set\n",
        "STOP_WORDS.add('a')\n",
        "STOP_WORDS.add('y')\n",
        "STOP_WORDS.add('e')\n",
        "STOP_WORDS.add('o')\n",
        "STOP_WORDS.add('que')\n",
        "STOP_WORDS.add('el')\n",
        "STOP_WORDS.add('la')\n",
        "STOP_WORDS.add('nos')\n",
        "STOP_WORDS.add('todos')\n",
        "STOP_WORDS.add('hemos')\n",
        "STOP_WORDS.add('estos')\n",
        "STOP_WORDS.add('pero')\n",
        "STOP_WORDS.add('cuando')\n",
        "STOP_WORDS.add('otro')\n",
        "STOP_WORDS.add('dentro')\n",
        "STOP_WORDS.add('he')\n",
        "STOP_WORDS.add('cada')\n",
        "STOP_WORDS.add('tal')\n",
        "STOP_WORDS.add('cuyo')\n",
        "STOP_WORDS.add('cuya')"
      ],
      "metadata": {
        "id": "7M2lq255w9G1"
      },
      "execution_count": 60,
      "outputs": []
    },
    {
      "cell_type": "code",
      "source": [
        "from sklearn.feature_extraction.text import TfidfVectorizer\n",
        "from sklearn.feature_extraction.text import strip_accents_ascii\n",
        "import string\n",
        "\n",
        "def custom_preprocessor(text):\n",
        "    text = text.lower()\n",
        "    text = ''.join([char for char in text if char.isalpha() or char.isspace()])\n",
        "    return text\n",
        "\n",
        "vect = TfidfVectorizer(ngram_range=(1, 1),\n",
        "                       stop_words=list(STOP_WORDS),\n",
        "                       preprocessor=custom_preprocessor)\n",
        "\n",
        "# Fit and transform the text data\n",
        "bow = vect.fit_transform(df['Content'])\n",
        "total_features = len(vect.vocabulary_)"
      ],
      "metadata": {
        "id": "8OSwFUOfvwul"
      },
      "execution_count": 61,
      "outputs": []
    },
    {
      "cell_type": "code",
      "source": [
        "total_features"
      ],
      "metadata": {
        "id": "u2f8iOY_yj1b",
        "outputId": "b8290a1b-0c62-4034-dbce-c7220dab3061",
        "colab": {
          "base_uri": "https://localhost:8080/"
        }
      },
      "execution_count": 62,
      "outputs": [
        {
          "output_type": "execute_result",
          "data": {
            "text/plain": [
              "14686"
            ]
          },
          "metadata": {},
          "execution_count": 62
        }
      ]
    },
    {
      "cell_type": "code",
      "source": [
        "print(vect.get_feature_names_out())"
      ],
      "metadata": {
        "id": "ohB0-1Mfy3_n",
        "outputId": "1321d3ff-fd0f-47a4-9534-248ea241ec70",
        "colab": {
          "base_uri": "https://localhost:8080/"
        }
      },
      "execution_count": 63,
      "outputs": [
        {
          "output_type": "stream",
          "name": "stdout",
          "text": [
            "['abajo' 'abandona' 'abandonaba' ... 'únicos' 'útil' 'útiles']\n"
          ]
        }
      ]
    },
    {
      "cell_type": "code",
      "source": [
        "vect.get_feature_names_out()[1384]"
      ],
      "metadata": {
        "id": "lzlvz8em0-hr",
        "outputId": "118b7f34-626e-4061-c1be-740743d8012a",
        "colab": {
          "base_uri": "https://localhost:8080/",
          "height": 35
        }
      },
      "execution_count": 65,
      "outputs": [
        {
          "output_type": "execute_result",
          "data": {
            "text/plain": [
              "'arriba'"
            ],
            "application/vnd.google.colaboratory.intrinsic+json": {
              "type": "string"
            }
          },
          "metadata": {},
          "execution_count": 65
        }
      ]
    },
    {
      "cell_type": "code",
      "source": [
        "print(bow[0])"
      ],
      "metadata": {
        "id": "RFSiIKhIweqP",
        "outputId": "eef6c245-074a-4cf8-e103-a776b3196c69",
        "colab": {
          "base_uri": "https://localhost:8080/"
        }
      },
      "execution_count": 64,
      "outputs": [
        {
          "output_type": "stream",
          "name": "stdout",
          "text": [
            "  (0, 1384)\t0.07061051422803694\n",
            "  (0, 13741)\t0.07176287734808377\n",
            "  (0, 3670)\t0.11532153340846857\n",
            "  (0, 9492)\t0.040877932206847455\n",
            "  (0, 2292)\t0.17872794216980709\n",
            "  (0, 2235)\t0.10013733283905071\n",
            "  (0, 796)\t0.0933096008563781\n",
            "  (0, 11252)\t0.16040892607292606\n",
            "  (0, 8461)\t0.08253623910223094\n",
            "  (0, 6502)\t0.14963556431877886\n",
            "  (0, 3840)\t0.16040892607292606\n",
            "  (0, 13818)\t0.07812540028696024\n",
            "  (0, 9967)\t0.05817248524348624\n",
            "  (0, 8107)\t0.14127909573203362\n",
            "  (0, 584)\t0.07953873203410108\n",
            "  (0, 5088)\t0.1755931266423439\n",
            "  (0, 6528)\t0.11532153340846857\n",
            "  (0, 716)\t0.08753683571924872\n",
            "  (0, 13045)\t0.14963556431877886\n",
            "  (0, 2605)\t0.12367800199521385\n",
            "  (0, 5848)\t0.04522470112379079\n",
            "  (0, 7064)\t0.07676347396510157\n",
            "  (0, 10584)\t0.16040892607292606\n",
            "  (0, 8955)\t0.23064306681693714\n",
            "  (0, 7237)\t0.08253623910223094\n",
            "  (0, 7268)\t0.06735203853281307\n",
            "  (0, 8901)\t0.134451363749361\n",
            "  (0, 14505)\t0.16040892607292606\n",
            "  (0, 13391)\t0.10849380142579597\n",
            "  (0, 5011)\t0.07295182947586569\n",
            "  (0, 10074)\t0.1755931266423439\n",
            "  (0, 8887)\t0.1909002350377941\n",
            "  (0, 14407)\t0.30041199851715217\n",
            "  (0, 4002)\t0.09128484578971043\n",
            "  (0, 11446)\t0.12867859861223163\n",
            "  (0, 14107)\t0.08579471479745482\n",
            "  (0, 1320)\t0.16040892607292606\n",
            "  (0, 6520)\t0.06632597855588986\n",
            "  (0, 5708)\t0.10849380142579597\n",
            "  (0, 1820)\t0.1755931266423439\n",
            "  (0, 6806)\t0.14127909573203362\n",
            "  (0, 8807)\t0.16040892607292606\n",
            "  (0, 13998)\t0.16040892607292606\n",
            "  (0, 6096)\t0.1027210362886666\n",
            "  (0, 5863)\t0.18724423218886738\n",
            "  (0, 2611)\t0.4238372871961008\n"
          ]
        }
      ]
    }
  ]
}